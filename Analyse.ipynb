{
 "cells": [
  {
   "cell_type": "markdown",
   "id": "b94690e0-8c8a-47cf-851c-f14dfff02656",
   "metadata": {},
   "source": [
    "# Création listes"
   ]
  },
  {
   "cell_type": "code",
   "execution_count": 2,
   "id": "91ab8b25-c527-4197-8a7f-99f19dd2bcbc",
   "metadata": {},
   "outputs": [],
   "source": [
    "path = \"./images_hq/\""
   ]
  },
  {
   "cell_type": "code",
   "execution_count": 3,
   "id": "bcd633c4-a994-421a-85b7-b300f6a5ccf1",
   "metadata": {},
   "outputs": [],
   "source": [
    "import glob"
   ]
  },
  {
   "cell_type": "code",
   "execution_count": 12,
   "id": "74ed3b03-4db2-4f29-9d5b-19efc59bc8a1",
   "metadata": {},
   "outputs": [
    {
     "name": "stdout",
     "output_type": "stream",
     "text": [
      "['./images_hq/Albrecht_Dürer', './images_hq/Alfred_Sisley', './images_hq/Amedeo_Modigliani', './images_hq/Andrei_Rublev', './images_hq/Andy_Warhol', './images_hq/Camille_Pissarro', './images_hq/Caravaggio', './images_hq/Claude_Monet', './images_hq/Diego_Rivera', './images_hq/Diego_Velazquez', './images_hq/Edgar_Degas', './images_hq/Edouard_Manet', './images_hq/Edvard_Munch', './images_hq/El_Greco', './images_hq/Eugene_Delacroix', './images_hq/Francisco_Goya', './images_hq/Frida_Kahlo', './images_hq/Georges_Seurat', './images_hq/Giotto_di_Bondone', './images_hq/Gustav_Klimt', './images_hq/Gustave_Courbet', './images_hq/Henri_Matisse', './images_hq/Henri_Rousseau', './images_hq/Henri_de_Toulouse-Lautrec', './images_hq/Hieronymus_Bosch', './images_hq/Jackson_Pollock', './images_hq/Jan_van_Eyck', './images_hq/Joan_Miro', './images_hq/Kazimir_Malevich', './images_hq/Leonardo_da_Vinci', './images_hq/Marc_Chagall', './images_hq/Michelangelo', './images_hq/Mikhail_Vrubel', './images_hq/Pablo_Picasso', './images_hq/Paul_Cezanne', './images_hq/Paul_Gauguin', './images_hq/Paul_Klee', './images_hq/Peter_Paul_Rubens', './images_hq/Pierre-Auguste_Renoir', './images_hq/Piet_Mondrian', './images_hq/Pieter_Bruegel', './images_hq/Raphael', './images_hq/Rembrandt', './images_hq/Rene_Magritte', './images_hq/Salvador_Dali', './images_hq/Sandro_Botticelli', './images_hq/Titian', './images_hq/Vasiliy_Kandinskiy', './images_hq/Vincent_van_Gogh', './images_hq/William_Turner']\n"
     ]
    }
   ],
   "source": [
    "paths = glob.glob(path+\"/*\")\n",
    "\n",
    "print(paths)"
   ]
  }
 ],
 "metadata": {
  "kernelspec": {
   "display_name": "Python 3 (ipykernel)",
   "language": "python",
   "name": "python3"
  },
  "language_info": {
   "codemirror_mode": {
    "name": "ipython",
    "version": 3
   },
   "file_extension": ".py",
   "mimetype": "text/x-python",
   "name": "python",
   "nbconvert_exporter": "python",
   "pygments_lexer": "ipython3",
   "version": "3.12.4"
  }
 },
 "nbformat": 4,
 "nbformat_minor": 5
}
